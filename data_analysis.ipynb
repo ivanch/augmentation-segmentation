{
 "cells": [
  {
   "cell_type": "code",
   "execution_count": null,
   "metadata": {},
   "outputs": [],
   "source": [
    "import pandas as pd\n",
    "import numpy as np\n",
    "import matplotlib.pyplot as plt"
   ]
  },
  {
   "cell_type": "code",
   "execution_count": null,
   "metadata": {},
   "outputs": [],
   "source": [
    "models_csv_paths = [\"segnet_segnet.csv\"]\n",
    "titles = [\"SegNet\"]"
   ]
  },
  {
   "cell_type": "code",
   "execution_count": null,
   "metadata": {},
   "outputs": [],
   "source": [
    "df = pd.read_csv(models_csv_paths[0])\n",
    "augs = []\n",
    "for x in df['augmentations']:\n",
    "    if x not in augs:\n",
    "        augs.append(x)"
   ]
  },
  {
   "cell_type": "code",
   "execution_count": null,
   "metadata": {},
   "outputs": [],
   "source": [
    "fig, ax = plt.subplots(nrows=len(augs), ncols=len(models_csv_paths), sharey='all', figsize=(3.5*len(models_csv_paths), 2.5*(len(augs))))\n",
    "plt.tight_layout()"
   ]
  },
  {
   "cell_type": "code",
   "execution_count": null,
   "metadata": {},
   "outputs": [],
   "source": [
    "for modelid, csv_file in enumerate(models_csv_paths):\n",
    "    df = pd.read_csv(csv_file)\n",
    "    df = df.sort_values('name')\n",
    "    \n",
    "    for i, a in enumerate(augs):\n",
    "        iou_scores = df.loc[df['augmentations'] == a]['iou']\n",
    "        iou_scores = iou_scores.values\n",
    "\n",
    "        title = \"\"\n",
    "        x = np.arange(1,len(iou_scores)+1)\n",
    "        y = iou_scores\n",
    "\n",
    "        for j in range(len(iou_scores)):\n",
    "            if y[j] == 0:\n",
    "                if len(models_csv_paths) == 1: ax[i].scatter(x[j], y[j], color='red')\n",
    "                else: ax[i, modelid].scatter(x[j], y[j], color='red')\n",
    "            else:\n",
    "                if len(models_csv_paths) == 1: ax[i].scatter(x[j], y[j], color='blue')\n",
    "                else: ax[i, modelid].scatter(x[j], y[j], color='blue')\n",
    "        if i == 0:\n",
    "            for t in titles[modelid].split(\" \"):\n",
    "                title += r\"$\\bf{\" + t + \"}$ \"\n",
    "            title = title + \"\\n\\n\" + a.replace(\"_\", \" \")\n",
    "            \n",
    "        else:\n",
    "            title = a.replace(\"_\", \" \")\n",
    "        \n",
    "        if len(models_csv_paths) == 1:\n",
    "            ax[i].set_title(title)\n",
    "\n",
    "            ax[i].set_xlabel(\"Número da imagem\")\n",
    "            ax[i].set_ylabel(\"iou score\")\n",
    "        else:\n",
    "            ax[i, modelid].set_title(title)\n",
    "\n",
    "            ax[i, modelid].set_xlabel(\"Número da imagem\")\n",
    "            ax[i, modelid].set_ylabel(\"iou score\")"
   ]
  },
  {
   "cell_type": "code",
   "execution_count": null,
   "metadata": {},
   "outputs": [],
   "source": [
    "fig.tight_layout()\n",
    "fig.subplots_adjust(hspace=0.7)\n",
    "fig.savefig('result.png')"
   ]
  }
 ],
 "metadata": {
  "kernelspec": {
   "display_name": "Python 3",
   "language": "python",
   "name": "python3"
  },
  "language_info": {
   "codemirror_mode": {
    "name": "ipython",
    "version": 3
   },
   "file_extension": ".py",
   "mimetype": "text/x-python",
   "name": "python",
   "nbconvert_exporter": "python",
   "pygments_lexer": "ipython3",
   "version": "3.7.3"
  }
 },
 "nbformat": 4,
 "nbformat_minor": 4
}
